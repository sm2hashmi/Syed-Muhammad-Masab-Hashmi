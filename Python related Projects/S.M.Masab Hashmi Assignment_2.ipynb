{
 "cells": [
  {
   "cell_type": "markdown",
   "metadata": {},
   "source": [
    "<h3>Q no 1:  Write a python program to find number of occurrences of given number in a list with out using built-in methods</h3>\n",
    "<h4>**1 generate a list of some random num which is repeated again and again</h4>\n",
    "<h4>**2 take user input any number</h4>\n",
    "<h4>**3 find the number of occurrences of that num in your list</h4>\n",
    "<h4>**4 print some message to user with that result</h4>"
   ]
  },
  {
   "cell_type": "code",
   "execution_count": 1,
   "metadata": {},
   "outputs": [
    {
     "name": "stdout",
     "output_type": "stream",
     "text": [
      "Please enter the number = 2\n"
     ]
    }
   ],
   "source": [
    "numbers = (1,1,2,3,7,3,3,6,5,1)\n",
    "user=eval(input('Please enter the number = '))\n"
   ]
  },
  {
   "cell_type": "code",
   "execution_count": 2,
   "metadata": {},
   "outputs": [
    {
     "name": "stdout",
     "output_type": "stream",
     "text": [
      "number of occurances =  1\n"
     ]
    }
   ],
   "source": [
    "occurance = 0\n",
    "\n",
    "for x in numbers:\n",
    "    if user==x:\n",
    "        occurance+=1\n",
    "print('number of occurances = ',occurance)"
   ]
  },
  {
   "cell_type": "markdown",
   "metadata": {},
   "source": [
    "<h3>Q no 2:   [\"www.zframez.com\", \"www.wikipedia.org\", \"www.asp.net\", \"www.abcd.in\"]\n",
    "<br/><br/><br/><br/><br/>\n",
    "Write a python program to print website suffixes (com , org , net ,in) from this list\n",
    "</h3>"
   ]
  },
  {
   "cell_type": "code",
   "execution_count": 3,
   "metadata": {},
   "outputs": [
    {
     "name": "stdout",
     "output_type": "stream",
     "text": [
      "com\n",
      "org\n",
      "net\n",
      "in\n"
     ]
    }
   ],
   "source": [
    "web =  [\"www.zframez.com\", \"www.wikipedia.org\", \"www.asp.net\", \"www.abcd.in\"]\n",
    "for name in web:\n",
    "    content = name.split('.')\n",
    "    print(content[-1])"
   ]
  },
  {
   "cell_type": "code",
   "execution_count": null,
   "metadata": {},
   "outputs": [],
   "source": []
  },
  {
   "cell_type": "markdown",
   "metadata": {},
   "source": [
    "<h3> Q no 3 : Write a program which can compute the factorial of a given numbers.</h3>\n",
    "<br/>\n",
    "<br/>\n",
    "<h4>**1 first take user input any number</h4>\n",
    "<h4>**2 calculate factorial of that input and then print the result to user</h4>"
   ]
  },
  {
   "cell_type": "code",
   "execution_count": 4,
   "metadata": {},
   "outputs": [
    {
     "name": "stdout",
     "output_type": "stream",
     "text": [
      "enter the number you want = 4\n",
      "factorial is 1\n",
      "factorial is 2\n",
      "factorial is 6\n",
      "factorial is 24\n"
     ]
    }
   ],
   "source": [
    "num=eval(input('enter the number you want = '))\n",
    "me = 1\n",
    "for x in range(1,num+1):\n",
    "    me *=x\n",
    "    print('factorial is {}'.format(me))"
   ]
  },
  {
   "cell_type": "code",
   "execution_count": null,
   "metadata": {},
   "outputs": [],
   "source": []
  },
  {
   "cell_type": "code",
   "execution_count": null,
   "metadata": {},
   "outputs": [],
   "source": []
  },
  {
   "cell_type": "code",
   "execution_count": null,
   "metadata": {},
   "outputs": [],
   "source": []
  },
  {
   "cell_type": "markdown",
   "metadata": {},
   "source": [
    "<h3>Q 4 (a) :  If you could invite anyone, living or deceased, to dinner, who\n",
    "would you invite? Make a list that includes at least three people you’d like to\n",
    "invite to dinner. Then use your list to print a message to each person, inviting\n",
    "them to dinner.</h3>"
   ]
  },
  {
   "cell_type": "code",
   "execution_count": 7,
   "metadata": {},
   "outputs": [
    {
     "name": "stdout",
     "output_type": "stream",
     "text": [
      "Musab , you are invited to have the dinner\n",
      "Abdullah , you are invited to have the dinner\n",
      "Sarah , you are invited to have the dinner\n"
     ]
    }
   ],
   "source": [
    "members = ['Musab','Abdullah','Sarah']\n",
    "for x in members:\n",
    "    print('{} , you are invited to have the dinner'.format(x))"
   ]
  },
  {
   "cell_type": "code",
   "execution_count": null,
   "metadata": {},
   "outputs": [],
   "source": []
  },
  {
   "cell_type": "code",
   "execution_count": null,
   "metadata": {},
   "outputs": [],
   "source": []
  },
  {
   "cell_type": "markdown",
   "metadata": {},
   "source": [
    "<h3>Q 4 (b) : You just heard that one of your guests can’t make the\n",
    "dinner, so you need to send out a new set of invitations. You’ll have to think of\n",
    "someone else to invite.<br/></br><br/>\n",
    "•\t Start with your program from Q 4 (a). Add a print statement at the\n",
    "end of your program stating the name of the guest who can’t make it.<br/></br><br/>\n",
    "•\t Modify your list, replacing the name of the guest who can’t make it with\n",
    "the name of the new person you are inviting.<br/></br><br/>\n",
    "•\t Print a second set of invitation messages, one for each person who is still\n",
    "in your list.<br/></br><br/></h3>"
   ]
  },
  {
   "cell_type": "code",
   "execution_count": 9,
   "metadata": {},
   "outputs": [
    {
     "name": "stdout",
     "output_type": "stream",
     "text": [
      "Musab , you are invited to have the dinner\n",
      "Abdullah , you are invited to have the dinner\n",
      "Sarah , you are invited to have the dinner\n",
      "\n",
      " unfortunately Sarah will not be able to join us so Faizan will be joinig us \n",
      "\n",
      "Musab, you are invited to have the dinner\n",
      "Abdullah, you are invited to have the dinner\n",
      "Faizan, you are invited to have the dinner\n"
     ]
    }
   ],
   "source": [
    "members = ['Musab','Abdullah','Sarah']\n",
    "for x in members:\n",
    "    print('{} , you are invited to have the dinner'.format(x))\n",
    "\n",
    "\n",
    "print('\\n unfortunately Sarah will not be able to join us so Faizan will be joinig us \\n')\n",
    "members[2]= 'Faizan'\n",
    "for x in members:\n",
    "    print('{}, you are invited to have the dinner'.format(x))"
   ]
  },
  {
   "cell_type": "code",
   "execution_count": null,
   "metadata": {},
   "outputs": [],
   "source": []
  },
  {
   "cell_type": "code",
   "execution_count": null,
   "metadata": {},
   "outputs": [],
   "source": []
  },
  {
   "cell_type": "markdown",
   "metadata": {},
   "source": [
    "<h3>Q 4 (c) : You just found a bigger dinner table, so now more space is\n",
    "available. Think of three more guests to invite to dinner.<br/></br><br/>\n",
    "•\t Start with your program from Q 4 (a) and (b) Add a print\n",
    "statement to the end of your program informing people that you found a\n",
    "bigger dinner table.<br/></br><br/>\n",
    "•\t Use insert() to add one new guest to the beginning of your list.<br/></br><br/>\n",
    "•\t Use insert() to add one new guest to the middle of your list.<br/></br><br/>\n",
    "•\t Use append() to add one new guest to the end of your list.<br/></br><br/>\n",
    "•\t Print a new set of invitation messages, one for each person in your list.<br/></br><br/></h3>"
   ]
  },
  {
   "cell_type": "code",
   "execution_count": 10,
   "metadata": {},
   "outputs": [
    {
     "name": "stdout",
     "output_type": "stream",
     "text": [
      "Musab , you are invited to have the dinner\n",
      "Abdullah , you are invited to have the dinner\n",
      "Sarah , you are invited to have the dinner\n",
      "\n",
      " unfortunately Sarah will not be able to join us so Faizan will be joinig us \n",
      "\n",
      "Musab, you all are invited to have the dinner\n",
      "Abdullah, you all are invited to have the dinner\n",
      "Farhan, you all are invited to have the dinner\n",
      "\n",
      "Now, we are having more guests as we have got some more place available\n",
      "\n",
      "Ghazanfar, you are invited to have the dinner\n",
      "Musab, you are invited to have the dinner\n",
      "Minhaj, you are invited to have the dinner\n",
      "Abdullah, you are invited to have the dinner\n",
      "Farhan, you are invited to have the dinner\n",
      "Ahmed, you are invited to have the dinner\n"
     ]
    }
   ],
   "source": [
    "members = ['Musab','Abdullah','Sarah']\n",
    "for x in members:\n",
    "    print('{} , you are invited to have the dinner'.format(x))\n",
    "\n",
    "\n",
    "print('\\n unfortunately Sarah will not be able to join us so Faizan will be joinig us \\n')\n",
    "members[2]= 'Farhan'\n",
    "for x in members:\n",
    "    print('{}, you all are invited to have the dinner'.format(x))\n",
    "\n",
    "\n",
    "print('\\nNow, we are having more guests as we have got some more place available\\n')\n",
    "members.insert(0,'Ghazanfar')\n",
    "members.insert(2,'Minhaj')\n",
    "members.append('Ahmed')\n",
    "for x in members:\n",
    "    print('{}, you are invited to have the dinner'.format(x))"
   ]
  },
  {
   "cell_type": "code",
   "execution_count": null,
   "metadata": {},
   "outputs": [],
   "source": []
  },
  {
   "cell_type": "code",
   "execution_count": null,
   "metadata": {},
   "outputs": [],
   "source": []
  },
  {
   "cell_type": "markdown",
   "metadata": {},
   "source": [
    "<h5> Q 5 : Here you have some data in variable below, your task is to make a list of specific word Surah then print the list and length of list</h5>\n"
   ]
  },
  {
   "cell_type": "code",
   "execution_count": null,
   "metadata": {},
   "outputs": [],
   "source": [
    "data = \"Sura I Who believe in the Unseen, Sura Are steadfast in prayer, And spend Sura out of what We Have provided for them;\"\n"
   ]
  },
  {
   "cell_type": "code",
   "execution_count": null,
   "metadata": {},
   "outputs": [],
   "source": [
    "data = \"Surah I Who believe in the Unseen, Surah Are steadfast in prayer, And spend Surah out of what We Have provided for them;\"\n",
    "content = data.split()\n",
    "s_list = []\n",
    "for c in content:\n",
    "    if c == 'Surah':\n",
    "        s_list.append(c)\n",
    "        \n",
    "print(s_list)\n",
    "print('length : {}'.format(len(s_list)))"
   ]
  }
 ],
 "metadata": {
  "kernelspec": {
   "display_name": "Python 3",
   "language": "python",
   "name": "python3"
  },
  "language_info": {
   "codemirror_mode": {
    "name": "ipython",
    "version": 3
   },
   "file_extension": ".py",
   "mimetype": "text/x-python",
   "name": "python",
   "nbconvert_exporter": "python",
   "pygments_lexer": "ipython3",
   "version": "3.6.5"
  }
 },
 "nbformat": 4,
 "nbformat_minor": 2
}
